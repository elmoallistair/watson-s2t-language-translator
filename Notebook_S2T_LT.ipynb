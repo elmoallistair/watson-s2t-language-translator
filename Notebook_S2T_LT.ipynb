{
 "cells": [
  {
   "cell_type": "markdown",
   "metadata": {},
   "source": [
    "# Speech to Text and Language Translator\n",
    "\n",
    "IBM Watson™ Speech to Text is a cloud-native solution that uses deep-learning AI algorithms to apply knowledge about grammar, language structure, and audio/voice signal composition to create customizable speech recognition for optimal text transcription and the IBM Watson™ Language Translator allows us to translate text programmatically from one language into another language. \n",
    "\n",
    "The goal of this project is to implement these technologies using Python.\n",
    "\n",
    "### References for this project\n",
    "\n",
    "* https://github.com/watson-developer-cloud/python-sdk\n",
    "* https://cloud.ibm.com/apidocs/speech-to-text?code=python\n",
    "* https://cloud.ibm.com/apidocs/language-translator?code=python"
   ]
  },
  {
   "cell_type": "markdown",
   "metadata": {},
   "source": [
    "<hr>"
   ]
  },
  {
   "cell_type": "markdown",
   "metadata": {},
   "source": [
    "## Preparation\n",
    "\n",
    "### Install required package\n",
    "\n",
    "`ibm-watson` is a Python client library to quickly get started with the various [Watson APIs](http://www.ibm.com/watson/developercloud/) services. See more information about this package [here](https://pypi.org/project/ibm-watson/).\n",
    " \n",
    "`pandas` is a Python package that provides fast, flexible, and expressive data structures designed to make working with structured (tabular, multidimensional, potentially heterogeneous) and time series data both easy and intuitive. See more information about this package [here](https://pypi.org/project/pandas/).\n",
    "\n",
    "Note:\n",
    "\n",
    "* `ibm-watson` only support `python 3.5` or above.\n",
    "* `ibm-watson` must be in version `4.7.1` or above."
   ]
  },
  {
   "cell_type": "code",
   "execution_count": null,
   "metadata": {},
   "outputs": [],
   "source": [
    "!pip install --upgrade \"ibm-watson>=4.7.1\"\n",
    "!pip install pandas"
   ]
  },
  {
   "cell_type": "markdown",
   "metadata": {},
   "source": [
    "### Import required modules"
   ]
  },
  {
   "cell_type": "code",
   "execution_count": null,
   "metadata": {},
   "outputs": [],
   "source": [
    "from ibm_cloud_sdk_core.authenticators import IAMAuthenticator\n",
    "from ibm_watson import SpeechToTextV1 \n",
    "from ibm_watson import LanguageTranslatorV3\n",
    "from pandas import json_normalize"
   ]
  },
  {
   "cell_type": "markdown",
   "metadata": {},
   "source": [
    "### Specifies the sample audio\n",
    "\n",
    "Specify the audio sample we will use, for this project we will use the file `PolynomialRegressionandPipelines.mp3`\n",
    "\n",
    "Check out the supported audio formats [here](https://cloud.ibm.com/docs/speech-to-text-data?topic=speech-to-text-data-audio-formats)."
   ]
  },
  {
   "cell_type": "code",
   "execution_count": null,
   "metadata": {},
   "outputs": [],
   "source": [
    "filename = '<AUDIO_FILE>'"
   ]
  },
  {
   "cell_type": "markdown",
   "metadata": {},
   "source": [
    "<hr>"
   ]
  },
  {
   "cell_type": "markdown",
   "metadata": {},
   "source": [
    "## Transcribes audio to text\n",
    "\n",
    "IBM Watson™ Speech service allows us to transcribes audio to text to enable speech transcription capabilities for applications.\n",
    "\n",
    "See more information about this product [here](https://www.ibm.com/cloud/watson-speech-to-text).\n",
    "\n",
    "<br>\n",
    "\n",
    "### Add IBM Watson™ Speech to Text Credentials\n",
    "\n",
    "We can create our instance [here](https://cloud.ibm.com/catalog/services/speech-to-text)."
   ]
  },
  {
   "cell_type": "code",
   "execution_count": null,
   "metadata": {},
   "outputs": [],
   "source": [
    "API_S2T = '<YOUR_S2T_APIKEY>'\n",
    "URL_S2T = '<YOUR_S2T_URL>'"
   ]
  },
  {
   "cell_type": "markdown",
   "metadata": {},
   "source": [
    "### Speech To Text Authentication\n",
    "\n",
    "IBM Cloud Identity and Access Management (IAM) is the primary method to authenticate to the API.\n",
    "\n",
    "Explanation:\n",
    "\n",
    "* The `IAMAuthenticator` utilizes an apikey to obtain a suitable bearer token and adds it to requests with `apikey` argument.\n",
    "* The `SpeechToTextV1` is the services we will use.\n",
    "* The `set_the_url` will make HTTP requests with `service_url` argument.\n",
    "\n",
    "Read more about authentication [here](https://cloud.ibm.com/apidocs/speech-to-text?code=python#authentication)."
   ]
  },
  {
   "cell_type": "code",
   "execution_count": null,
   "metadata": {},
   "outputs": [],
   "source": [
    "s2t_auth = IAMAuthenticator(API_S2T)\n",
    "speech_to_text = SpeechToTextV1(authenticator=s2t_auth)\n",
    "speech_to_text.set_service_url(URL_S2T)"
   ]
  },
  {
   "cell_type": "markdown",
   "metadata": {},
   "source": [
    "### Recognize the audio\n",
    "\n",
    "Here we use `recognize()` method to sends audio and returns transcription results for a recognition request.\n",
    "\n",
    "We can pass a maximum of 100 MB and a minimum of 100 bytes of audio with a request."
   ]
  },
  {
   "cell_type": "code",
   "execution_count": null,
   "metadata": {},
   "outputs": [],
   "source": [
    "with open(filename, mode=\"rb\") as wav:\n",
    "    s2t_response = speech_to_text.recognize(audio=wav, content_type='audio/mp3')"
   ]
  },
  {
   "cell_type": "markdown",
   "metadata": {},
   "source": [
    "### Explore the transcription result\n",
    "\n",
    "The output looks like this:\n",
    "\n",
    "```\n",
    "{\n",
    "\t'result_index': 0,\n",
    "\t'results': [\n",
    "\t\t{'final': True, 'alternatives': [{'transcript': ...., 'confidence': ...}]},\n",
    "\t\t{'final': True, 'alternatives': [{'transcript': ...., 'confidence': ...}]}\n",
    "    \t\t.... ,\n",
    "\t]\n",
    "}\n",
    "```\n",
    "\n",
    "Explanation:\n",
    "\n",
    "* The `result_index` field provides a unique identifier for the results.\n",
    "* The `results` field provides an array of information about the transcription results.\n",
    "* The `final` field has a value of `true` to indicate that these results will not change, `false` for interim results, which are subject to change.\n",
    "* The `alternatives` field provides an array of transcription results. For this request, the array includes a single element.\n",
    "* The `confidence` field is a score that indicates the service's confidence in the transcript.\n",
    "* The `transcript` field provides the results of the transcription.\t\t\n",
    "\n",
    "Learn more about recognition result [here](https://cloud.ibm.com/docs/speech-to-text?topic=speech-to-text-basic-response)."
   ]
  },
  {
   "cell_type": "code",
   "execution_count": null,
   "metadata": {},
   "outputs": [],
   "source": [
    "s2t_response.result"
   ]
  },
  {
   "cell_type": "markdown",
   "metadata": {},
   "source": [
    "### Normalize the result\n",
    "\n",
    "Then we normalizing `alternatives` table."
   ]
  },
  {
   "cell_type": "code",
   "execution_count": null,
   "metadata": {},
   "outputs": [],
   "source": [
    "json_normalize(s2t_response.result['results'],\"alternatives\")"
   ]
  },
  {
   "cell_type": "markdown",
   "metadata": {},
   "source": [
    "### Cleaning the result\n",
    "\n",
    "We will collect the `transcript` value and save it to the `list`, each element will represent `transcript` value.\n",
    "\n",
    "```\n",
    "s2t_response.result['results']  <--- s2t_response contains two key: result_index and results.\n",
    "└── results\n",
    "    └── alternatives[0]         <--- alternatives contains an one element list of dictionary.\n",
    "        └── transcript\n",
    "```"
   ]
  },
  {
   "cell_type": "code",
   "execution_count": null,
   "metadata": {},
   "outputs": [],
   "source": [
    "s2t_responses_list = []\n",
    "for responses in s2t_response.result['results']:\n",
    "    s2t_responses_list.append(responses['alternatives'][0]['transcript'])\n",
    "\n",
    "s2t_responses_list"
   ]
  },
  {
   "cell_type": "markdown",
   "metadata": {},
   "source": [
    "### Final result\n",
    "\n",
    "Then we create one single `string` from `recognized_test`."
   ]
  },
  {
   "cell_type": "code",
   "execution_count": null,
   "metadata": {},
   "outputs": [],
   "source": [
    "final_result_s2t = ' '.join(s2t_responses_list)\n",
    "final_result_s2t"
   ]
  },
  {
   "cell_type": "markdown",
   "metadata": {},
   "source": [
    "<hr>"
   ]
  },
  {
   "cell_type": "markdown",
   "metadata": {},
   "source": [
    "## Translate the text to another language\n",
    "\n",
    "IBM Watson™ Language Translator allows us to translate text programmatically from one language into another language.\n",
    "\n",
    "See more information about this product [here](https://www.ibm.com/watson/services/language-translator/).\n",
    "\n",
    "<br>\n",
    "\n",
    "### Add IBM Watson™ Language Translator Credentials\n",
    "\n",
    "We can create our instance [here](https://cloud.ibm.com/catalog/services/language-translator).\n",
    "\n",
    "In this example, we use Language Translator Version 2018-05-01.\n",
    "\n",
    "See about versioning [here](https://github.com/watson-developer-cloud/api-guidelines/#versioning)."
   ]
  },
  {
   "cell_type": "code",
   "execution_count": null,
   "metadata": {},
   "outputs": [],
   "source": [
    "API_LT = '<YOUR_LT_APIKEY>'\n",
    "URL_LT = '<YOUR_LT_URL>'\n",
    "VER_LT = '2018-05-01'"
   ]
  },
  {
   "cell_type": "markdown",
   "metadata": {},
   "source": [
    "### Language Translator Authentication\n",
    "\n",
    "IBM Cloud Identity and Access Management (IAM) is the primary method to authenticate to the API.\n",
    "\n",
    "Explanation:\n",
    "\n",
    "* The `IAMAuthenticator` utilizes an apikey to obtain a suitable bearer token and adds it to requests with `apikey` argument.\n",
    "* The `LanguageTranslatorV3` is the services we will use.\n",
    "* The `set_the_url` will make HTTP requests with `service_url` argument.\n",
    "\n",
    "Read more about to authentication [here](https://cloud.ibm.com/apidocs/language-translator-data?code=python#authentication)."
   ]
  },
  {
   "cell_type": "code",
   "execution_count": null,
   "metadata": {},
   "outputs": [],
   "source": [
    "lt_auth = IAMAuthenticator(API_LT)\n",
    "language_translator = LanguageTranslatorV3(version=VER_LT, authenticator=lt_auth)\n",
    "language_translator.set_service_url(URL_LT)"
   ]
  },
  {
   "cell_type": "markdown",
   "metadata": {},
   "source": [
    "### Get a list of supported languages\n",
    "\n",
    "The `list_identifiable_languages()` method returns the language code (for example, `en` for English or `es` for Spanish) and the name of each language.\n",
    "\n",
    "You also can see supported languages [here](https://cloud.ibm.com/docs/language-translator?topic=language-translator-translation-models)."
   ]
  },
  {
   "cell_type": "code",
   "execution_count": null,
   "metadata": {},
   "outputs": [],
   "source": [
    "json_normalize(language_translator.list_identifiable_languages().get_result(), \"languages\")"
   ]
  },
  {
   "cell_type": "markdown",
   "metadata": {},
   "source": [
    "### Translate from EN to ID\n",
    "\n",
    "The `translate()` method will translates the input text from the source language to the target language. \n",
    "\n",
    "The `text` parameter take text in UTF-8 encoding with maximum of 50 KB (51,200 bytes) of text with a single request. In this example we use text from `final_result_s2t`.\n",
    "\n",
    "We can specify `model_id` using format `source-target`. For example, `en-de` selects the IBM-provided base model for English-to-German translation.\n",
    "\n",
    "Read more about this [here](https://cloud.ibm.com/apidocs/language-translator?code=python#translate).\n"
   ]
  },
  {
   "cell_type": "code",
   "execution_count": null,
   "metadata": {},
   "outputs": [],
   "source": [
    "tl_response = language_translator.translate(text=final_result_s2t, model_id='en-id')\n",
    "tl_result = tl_response.get_result()"
   ]
  },
  {
   "cell_type": "markdown",
   "metadata": {},
   "source": [
    "### Explore the translation result\n",
    "\n",
    "The output looks like this:\n",
    "\n",
    "```\n",
    "{\n",
    "    'translations': [{'translation': ...}],\n",
    "    'word_count': ...,\n",
    "    'character_count': ...\n",
    "}\n",
    "```\n",
    "\n",
    "Explanation:\n",
    "\n",
    "* `word_count`: Number of words in the input text.\n",
    "* `character_count`: Number of characters in the input text.\n",
    "* `translations`: List of translation output in UTF-8, corresponding to the input text entries.\n",
    "\n",
    "Read more about the response [here](https://cloud.ibm.com/apidocs/language-translator-data?code=python#translate)."
   ]
  },
  {
   "cell_type": "code",
   "execution_count": null,
   "metadata": {},
   "outputs": [],
   "source": [
    "tl_result"
   ]
  },
  {
   "cell_type": "markdown",
   "metadata": {},
   "source": [
    "### Get the translation result\n",
    "\n",
    "We will get the `translation` value and save it to the `final_result_tl`.\n",
    "\n",
    "```\n",
    "tl_result\n",
    "└── translations[0]     <--- translations contains an one element list of dictionary.\n",
    "    └── translation   \n",
    "```"
   ]
  },
  {
   "cell_type": "code",
   "execution_count": null,
   "metadata": {},
   "outputs": [],
   "source": [
    "final_result_tl = tl_result['translations'][0]['translation']"
   ]
  },
  {
   "cell_type": "markdown",
   "metadata": {},
   "source": [
    "### Final result"
   ]
  },
  {
   "cell_type": "code",
   "execution_count": null,
   "metadata": {},
   "outputs": [],
   "source": [
    "final_result_tl"
   ]
  }
 ],
 "metadata": {
  "kernelspec": {
   "display_name": "Python 3",
   "language": "python",
   "name": "python3"
  },
  "language_info": {
   "codemirror_mode": {
    "name": "ipython",
    "version": 3
   },
   "file_extension": ".py",
   "mimetype": "text/x-python",
   "name": "python",
   "nbconvert_exporter": "python",
   "pygments_lexer": "ipython3",
   "version": "3.8.5"
  }
 },
 "nbformat": 4,
 "nbformat_minor": 4
}
